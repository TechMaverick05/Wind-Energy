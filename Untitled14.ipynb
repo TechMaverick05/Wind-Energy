{
  "nbformat": 4,
  "nbformat_minor": 0,
  "metadata": {
    "colab": {
      "name": "Untitled14.ipynb",
      "provenance": [],
      "private_outputs": true,
      "authorship_tag": "ABX9TyMxcYt7oOXcUOLBSgVcO9l2",
      "include_colab_link": true
    },
    "kernelspec": {
      "name": "python3",
      "display_name": "Python 3"
    }
  },
  "cells": [
    {
      "cell_type": "markdown",
      "metadata": {
        "id": "view-in-github",
        "colab_type": "text"
      },
      "source": [
        "<a href=\"https://colab.research.google.com/github/TechMaverick05/Wind-Energy/blob/master/Untitled14.ipynb\" target=\"_parent\"><img src=\"https://colab.research.google.com/assets/colab-badge.svg\" alt=\"Open In Colab\"/></a>"
      ]
    },
    {
      "cell_type": "markdown",
      "metadata": {
        "id": "lDI9szLvfJ94",
        "colab_type": "text"
      },
      "source": [
        "Wind profiles and wind resources"
      ]
    },
    {
      "cell_type": "markdown",
      "metadata": {
        "id": "aI-C9iBNfOj_",
        "colab_type": "text"
      },
      "source": [
        "Estimate the roughness that is relevant for the wind profile at the mast location."
      ]
    },
    {
      "cell_type": "markdown",
      "metadata": {
        "id": "_eqqwk6SfTzA",
        "colab_type": "text"
      },
      "source": [
        "Ans. Is the roughness length between 0.01 and 0.1m?"
      ]
    },
    {
      "cell_type": "markdown",
      "metadata": {
        "id": "2wC2qvTKfd7g",
        "colab_type": "text"
      },
      "source": [
        "Which statement describes the friction velocity \n",
        "(\n",
        "u\n",
        "∗\n",
        ")?"
      ]
    },
    {
      "cell_type": "markdown",
      "metadata": {
        "id": "QgP8xMw8fk7r",
        "colab_type": "text"
      },
      "source": [
        "Ans The friction velocity(u*) is smaller during the night than during the day."
      ]
    },
    {
      "cell_type": "markdown",
      "metadata": {
        "id": "ZQUyXF6Qf17Y",
        "colab_type": "text"
      },
      "source": [
        "Using the wind speed measurements at \n",
        "60\n",
        "m\n",
        "60mwhich option describes the behavior of \n",
        "ψ ?"
      ]
    },
    {
      "cell_type": "markdown",
      "metadata": {
        "id": "ElpppJS2f8b6",
        "colab_type": "text"
      },
      "source": [
        "Ans. It is negative during the night and positive during yhe day"
      ]
    },
    {
      "cell_type": "markdown",
      "metadata": {
        "id": "d7h3g4MMgGRJ",
        "colab_type": "text"
      },
      "source": [
        "Which of the following statements is correct?"
      ]
    },
    {
      "cell_type": "markdown",
      "metadata": {
        "id": "kADDKsG3gKBS",
        "colab_type": "text"
      },
      "source": [
        "Ans. The estimated roughness , when derived from the wind profiles , varies a lot during the diurnal cycle and therefore it is not permissible to neglect the stability correction."
      ]
    },
    {
      "cell_type": "markdown",
      "metadata": {
        "id": "vfqUGvhigm6L",
        "colab_type": "text"
      },
      "source": [
        "Assuming that the energy production is proportional to the cube of the wind speed, which option describes the energy production of a \n",
        "10m tall wind turbine?"
      ]
    },
    {
      "cell_type": "markdown",
      "metadata": {
        "id": "a4mVvblfgK5q",
        "colab_type": "text"
      },
      "source": [
        "ans. The wind turbine produces less during the night than during the day."
      ]
    },
    {
      "cell_type": "markdown",
      "metadata": {
        "id": "BmZtKeikg-Sv",
        "colab_type": "text"
      },
      "source": [
        "Assuming that the energy production is proportional to the cube of the wind speed, which option describes the energy production of a \n",
        "160m tall wind turbine?"
      ]
    },
    {
      "cell_type": "markdown",
      "metadata": {
        "id": "ObOIszAhhDdR",
        "colab_type": "text"
      },
      "source": [
        "Ans. The wind turbine produces about the same during night and day."
      ]
    },
    {
      "cell_type": "markdown",
      "metadata": {
        "id": "u8-kBC1ehMx3",
        "colab_type": "text"
      },
      "source": [
        "When do you find the largest relative difference in production between a \n",
        "160m and a \n",
        "10m wind turbine?\n"
      ]
    },
    {
      "cell_type": "markdown",
      "metadata": {
        "id": "dUA5jzIJhRRm",
        "colab_type": "text"
      },
      "source": [
        "Ans. During the night"
      ]
    },
    {
      "cell_type": "markdown",
      "metadata": {
        "id": "WfqQQXXQhT_A",
        "colab_type": "text"
      },
      "source": [
        "Which option is true for the wind directions at \n",
        "10m and\n",
        "100m?\n"
      ]
    },
    {
      "cell_type": "markdown",
      "metadata": {
        "id": "dwzLPcN6iyjB",
        "colab_type": "text"
      },
      "source": [
        "Ans. The difference in wind direction is larger during the night than during the day."
      ]
    }
  ]
}